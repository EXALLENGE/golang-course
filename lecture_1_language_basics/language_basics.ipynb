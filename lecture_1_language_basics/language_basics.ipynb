{
 "cells": [
  {
   "cell_type": "markdown",
   "metadata": {},
   "source": [
    "# Основы языка"
   ]
  },
  {
   "cell_type": "markdown",
   "metadata": {},
   "source": [
    "## Переменные"
   ]
  },
  {
   "cell_type": "markdown",
   "metadata": {},
   "source": [
    "### Объявление переменных"
   ]
  },
  {
   "cell_type": "markdown",
   "metadata": {},
   "source": [
    "Короткое объявление переменной"
   ]
  },
  {
   "cell_type": "code",
   "execution_count": 9,
   "metadata": {},
   "outputs": [],
   "source": [
    "s := \"\""
   ]
  },
  {
   "cell_type": "markdown",
   "metadata": {},
   "source": [
    "Значение по умолчанию"
   ]
  },
  {
   "cell_type": "code",
   "execution_count": 10,
   "metadata": {},
   "outputs": [],
   "source": [
    "var s string"
   ]
  },
  {
   "cell_type": "markdown",
   "metadata": {},
   "source": [
    "Пропуск типа"
   ]
  },
  {
   "cell_type": "code",
   "execution_count": 11,
   "metadata": {},
   "outputs": [],
   "source": [
    "var s = \"\""
   ]
  },
  {
   "cell_type": "markdown",
   "metadata": {},
   "source": [
    "Значение при инициализации"
   ]
  },
  {
   "cell_type": "code",
   "execution_count": 12,
   "metadata": {},
   "outputs": [],
   "source": [
    "var s string = \"\""
   ]
  },
  {
   "cell_type": "markdown",
   "metadata": {},
   "source": [
    "### Тип int"
   ]
  },
  {
   "cell_type": "code",
   "execution_count": 15,
   "metadata": {},
   "outputs": [],
   "source": [
    "// int - платформозависимый тип, 32/64\n",
    "var i int = 10"
   ]
  },
  {
   "cell_type": "code",
   "execution_count": 16,
   "metadata": {},
   "outputs": [],
   "source": [
    "// автоматически выбранный int\n",
    "var autoInt = -10"
   ]
  },
  {
   "cell_type": "code",
   "execution_count": 17,
   "metadata": {},
   "outputs": [],
   "source": [
    "// int8, int16, int32, int64\n",
    "var bigInt int64 = 1<<32 - 1"
   ]
  },
  {
   "cell_type": "code",
   "execution_count": 18,
   "metadata": {},
   "outputs": [],
   "source": [
    "// платформозависимый тип, 32/64\n",
    "var unsignedInt uint = 100500"
   ]
  },
  {
   "cell_type": "code",
   "execution_count": 19,
   "metadata": {},
   "outputs": [],
   "source": [
    "// uint8, unit16, uint32, unit64\n",
    "var unsignedBigInt uint64 = 1<<64 - 1"
   ]
  },
  {
   "cell_type": "markdown",
   "metadata": {},
   "source": [
    "### Тип float"
   ]
  },
  {
   "cell_type": "code",
   "execution_count": 20,
   "metadata": {},
   "outputs": [],
   "source": [
    "// float32, float64\n",
    "var pi float32 = 3.141\n",
    "var e = 2.718\n",
    "goldenRatio := 1.618"
   ]
  },
  {
   "cell_type": "markdown",
   "metadata": {},
   "source": [
    "### Тип bool"
   ]
  },
  {
   "cell_type": "code",
   "execution_count": 21,
   "metadata": {},
   "outputs": [],
   "source": [
    "// bool\n",
    "var b bool // false по-умолчанию\n",
    "var isOk bool = true\n",
    "var success = true\n",
    "cond := true"
   ]
  },
  {
   "cell_type": "markdown",
   "metadata": {},
   "source": [
    "### Тип complex"
   ]
  },
  {
   "cell_type": "code",
   "execution_count": 22,
   "metadata": {},
   "outputs": [],
   "source": [
    "// complex64, complex128\n",
    "var c complex128 = -1.1 + 7.12i\n",
    "c2 := -1.1 + 7.12i"
   ]
  },
  {
   "cell_type": "markdown",
   "metadata": {},
   "source": [
    "### Тип string"
   ]
  },
  {
   "cell_type": "code",
   "execution_count": 23,
   "metadata": {},
   "outputs": [],
   "source": [
    "// пустая строка по-умолчанию\n",
    "var str string"
   ]
  },
  {
   "cell_type": "code",
   "execution_count": 24,
   "metadata": {},
   "outputs": [],
   "source": [
    "// со спец символами\n",
    "var hello string = \"Привет\\n\\t\""
   ]
  },
  {
   "cell_type": "code",
   "execution_count": 25,
   "metadata": {},
   "outputs": [],
   "source": [
    "// без спец символов\n",
    "var world string = `Мир\\n\\t`"
   ]
  },
  {
   "cell_type": "code",
   "execution_count": 26,
   "metadata": {},
   "outputs": [],
   "source": [
    "// UTF-8 из коробки\n",
    "var helloWorld = \"Привет, Мир!\""
   ]
  },
  {
   "cell_type": "code",
   "execution_count": 29,
   "metadata": {},
   "outputs": [],
   "source": [
    "// одинарные кавычки для байт (uint8)\n",
    "var rawBinary byte = '\\x27'"
   ]
  },
  {
   "cell_type": "code",
   "execution_count": 30,
   "metadata": {},
   "outputs": [],
   "source": [
    "// rune (uint32) для UTF-8 символов\n",
    "var someRune rune = '*'"
   ]
  },
  {
   "cell_type": "code",
   "execution_count": 31,
   "metadata": {},
   "outputs": [],
   "source": [
    "helloWorld := \"Привет Мир\"\n",
    "// конкатенация строк\n",
    "andGoodMorning := helloWorld + \" и доброе утро!\""
   ]
  },
  {
   "cell_type": "code",
   "execution_count": 32,
   "metadata": {},
   "outputs": [
    {
     "name": "stderr",
     "output_type": "stream",
     "text": [
      "3:1: cannot assign to helloWorld[0] (value of type byte)\n"
     ]
    }
   ],
   "source": [
    "// строки неизменяемы\n",
    "// cannot assign to helloWorld[0]\n",
    "helloWorld[0] = 72"
   ]
  },
  {
   "cell_type": "code",
   "execution_count": 36,
   "metadata": {},
   "outputs": [],
   "source": [
    "import \"unicode/utf8\"\n",
    "\n",
    "// получение длины строки\n",
    "byteLen := len(helloWorld) // 19 байт\n",
    "symbols := utf8.RuneCountInString(helloWorld) // 10 рун"
   ]
  },
  {
   "cell_type": "code",
   "execution_count": 37,
   "metadata": {},
   "outputs": [],
   "source": [
    "// получение подстроки, в байтах, не символах!\n",
    "hello := helloWorld[:12] // Привет, 0-11 байты\n",
    "H := helloWorld[0] // byte, 72, не \"П\""
   ]
  },
  {
   "cell_type": "code",
   "execution_count": 39,
   "metadata": {},
   "outputs": [],
   "source": [
    "// конвертация в слайс байт и обратно\n",
    "byteString := []byte(helloWorld)\n",
    "helloWorld = string(byteString)"
   ]
  },
  {
   "cell_type": "markdown",
   "metadata": {},
   "source": [
    "### Констатнты"
   ]
  },
  {
   "cell_type": "code",
   "execution_count": 40,
   "metadata": {},
   "outputs": [],
   "source": [
    "const pi = 3.141"
   ]
  },
  {
   "cell_type": "code",
   "execution_count": 41,
   "metadata": {},
   "outputs": [],
   "source": [
    "const (\n",
    "    hello = \"Привет\"\n",
    "    e = 2.718\n",
    ")"
   ]
  },
  {
   "cell_type": "code",
   "execution_count": 46,
   "metadata": {},
   "outputs": [],
   "source": [
    "const (\n",
    "    zero = iota\n",
    "    _     // пустая переменная, пропуск iota\n",
    "    _     // пустая переменная, пропуск iota\n",
    "    three // = 3\n",
    ")"
   ]
  },
  {
   "cell_type": "code",
   "execution_count": 47,
   "metadata": {},
   "outputs": [
    {
     "name": "stdout",
     "output_type": "stream",
     "text": [
      "3\n"
     ]
    }
   ],
   "source": [
    "three"
   ]
  },
  {
   "cell_type": "code",
   "execution_count": 48,
   "metadata": {},
   "outputs": [],
   "source": [
    "const (\n",
    "    _ = iota // пропускаем первое значне\n",
    "    KB uint64 = 1 << (10 * iota) // 1024\n",
    "    MB // 1048576\n",
    ")"
   ]
  },
  {
   "cell_type": "code",
   "execution_count": 56,
   "metadata": {},
   "outputs": [
    {
     "name": "stdout",
     "output_type": "stream",
     "text": [
      "2030\n",
      "5\n",
      "<nil>\n"
     ]
    }
   ],
   "source": [
    "const (\n",
    "    // нетипизированная константа\n",
    "    year = 2017\n",
    "    // типизированная константа\n",
    "    yearTyped int = 2017\n",
    ")\n",
    "\n",
    "var month int32 = 13\n",
    "\n",
    "fmt.Println(month + year)"
   ]
  },
  {
   "cell_type": "code",
   "execution_count": 57,
   "metadata": {},
   "outputs": [
    {
     "name": "stderr",
     "output_type": "stream",
     "text": [
      "1:13: invalid operation: mismatched types int32 and int\n"
     ]
    }
   ],
   "source": [
    "fmt.Println(month + yearTyped)"
   ]
  },
  {
   "cell_type": "markdown",
   "metadata": {},
   "source": [
    "### Определение типов"
   ]
  },
  {
   "cell_type": "code",
   "execution_count": 58,
   "metadata": {},
   "outputs": [
    {
     "name": "stdout",
     "output_type": "stream",
     "text": [
      "42 1\n",
      "5\n",
      "<nil>\n"
     ]
    }
   ],
   "source": [
    "type UserID int\n",
    "idx := 1\n",
    "var uid UserID = 42\n",
    "myID := UserID(idx)\n",
    "fmt.Println(uid, myID)"
   ]
  },
  {
   "cell_type": "markdown",
   "metadata": {},
   "source": [
    "### Указатели"
   ]
  },
  {
   "cell_type": "code",
   "execution_count": 59,
   "metadata": {},
   "outputs": [],
   "source": [
    "a := 2\n",
    "b := &a\n",
    "*b = 3 // a = 3\n",
    "c := &a // новый указатель на переменную a\n",
    "\n",
    "// получение указателя на переменнут типа int\n",
    "// инициализировано значением по-умолчанию\n",
    "d := new(int)\n",
    "*d = 12\n",
    "\n",
    "*c = *d // *c = 12 -> a = 12\n",
    "*d = 13 // c и a не изменились\n",
    "\n",
    "c = d // теперь с указывает туда же, куда d\n",
    "*c = 14 // с = 14 -> d = 14, a = 12"
   ]
  },
  {
   "cell_type": "markdown",
   "metadata": {},
   "source": [
    "### Массивы"
   ]
  },
  {
   "cell_type": "code",
   "execution_count": 60,
   "metadata": {},
   "outputs": [
    {
     "name": "stdout",
     "output_type": "stream",
     "text": [
      "a1 short [0 0 0]\n",
      "a1 short [0 0 0]\n",
      "a1 full [3]int{0, 0, 0}\n",
      "24\n",
      "<nil>\n"
     ]
    }
   ],
   "source": [
    "// размер массива является частью его типа\n",
    "// инициализация значениями по-умолчанию\n",
    "var a1 [3]int // [0,0,0]\n",
    "fmt.Println(\"a1 short\", a1)\n",
    "fmt.Printf(\"a1 short %v\\n\", a1)\n",
    "fmt.Printf(\"a1 full %#v\\n\", a1)"
   ]
  },
  {
   "cell_type": "code",
   "execution_count": 61,
   "metadata": {},
   "outputs": [
    {
     "name": "stdout",
     "output_type": "stream",
     "text": [
      "a2 [false false false false]\n",
      "29\n",
      "<nil>\n"
     ]
    }
   ],
   "source": [
    "const size = 2\n",
    "var a2 [2 * size]bool // [false,false,false,false]\n",
    "fmt.Println(\"a2\", a2)"
   ]
  },
  {
   "cell_type": "code",
   "execution_count": 62,
   "metadata": {},
   "outputs": [
    {
     "name": "stderr",
     "output_type": "stream",
     "text": [
      "2:8: array length size (variable of type int) must be constant\n"
     ]
    }
   ],
   "source": [
    "size := 2\n",
    "var a2[size] bool"
   ]
  },
  {
   "cell_type": "code",
   "execution_count": 63,
   "metadata": {},
   "outputs": [
    {
     "name": "stdout",
     "output_type": "stream",
     "text": [
      "a2 [1 2 3]\n",
      "11\n",
      "<nil>\n"
     ]
    }
   ],
   "source": [
    "a3 := [...]int{1, 2, 3}\n",
    "fmt.Println(\"a2\", a3)"
   ]
  },
  {
   "cell_type": "code",
   "execution_count": 64,
   "metadata": {},
   "outputs": [
    {
     "name": "stderr",
     "output_type": "stream",
     "text": [
      "1:4: index 4 (constant of type int) is out of bounds\n"
     ]
    }
   ],
   "source": [
    "a3[4] = 12"
   ]
  },
  {
   "cell_type": "markdown",
   "metadata": {},
   "source": [
    "### Слайсы"
   ]
  },
  {
   "cell_type": "code",
   "execution_count": 65,
   "metadata": {},
   "outputs": [],
   "source": [
    "var buf0 []int // len=0, cap=0\n",
    "buf1 := []int{} // len=0, cap=0\n",
    "buf2 := []int{42} // len=1, cap=1\n",
    "buf3 := make([]int, 0) // len=0, cap=0\n",
    "buf4 := make([]int, 5) // len=5, cap=5\n",
    "buf5 := make([]int, 5, 10) // len=5, cap=10"
   ]
  },
  {
   "cell_type": "code",
   "execution_count": 68,
   "metadata": {},
   "outputs": [],
   "source": [
    "// обращение к элементам\n",
    "someInt := buf2[0]"
   ]
  },
  {
   "cell_type": "code",
   "execution_count": 67,
   "metadata": {
    "scrolled": false
   },
   "outputs": [
    {
     "name": "stderr",
     "output_type": "stream",
     "text": [
      "panic: runtime error: index out of range\n",
      "\n",
      "goroutine 434 [running]:\n",
      "runtime/debug.Stack(0xc400000008, 0x7f74187623f8, 0xc42094c4d0)\n",
      "\t/usr/local/go/src/runtime/debug/stack.go:24 +0xa9\n",
      "github.com/yunabe/lgo/core.(*resultCounter).recordResult(0xc42094c4b8, 0x7f7418674100, 0x7f7418a844a0)\n",
      "\t/go/src/github.com/yunabe/lgo/core/core.go:95 +0xce\n",
      "github.com/yunabe/lgo/core.(*resultCounter).recordResultInDefer(0xc42094c4b8)\n",
      "\t/go/src/github.com/yunabe/lgo/core/core.go:100 +0x3b\n",
      "panic(0x7f7418674100, 0x7f7418a844a0)\n",
      "\t/usr/local/go/src/runtime/panic.go:491 +0x294\n",
      "github.com/yunabe/lgo/sess7b2274696d65223a313535313031373733353439383636363633377d/exec67.lgo_init()\n",
      "\t/go/src/github.com/yunabe/lgo/sess7b2274696d65223a313535313031373733353439383636363633377d/exec67/src.go:8 +0x8d\n",
      "github.com/yunabe/lgo/cmd/runner.loadShared.func3()\n",
      "\t/go/src/github.com/yunabe/lgo/cmd/runner/runner.go:62 +0x26\n",
      "github.com/yunabe/lgo/core.startExec.func1(0xc42094c480, 0xc420162010)\n",
      "\t/go/src/github.com/yunabe/lgo/core/core.go:256 +0x83\n",
      "created by github.com/yunabe/lgo/core.startExec\n",
      "\t/go/src/github.com/yunabe/lgo/core/core.go:253 +0xcb\n",
      "main routine failed\n"
     ]
    }
   ],
   "source": [
    "someOtherInt := buf2[1]"
   ]
  },
  {
   "cell_type": "code",
   "execution_count": 69,
   "metadata": {},
   "outputs": [],
   "source": [
    "// добавление элементов\n",
    "var buf []int // len=0, cap=0\n",
    "buf = append(buf, 9, 10) // len=2, cap=2\n",
    "buf = append(buf, 12) // len=3, cap=4"
   ]
  },
  {
   "cell_type": "code",
   "execution_count": 70,
   "metadata": {},
   "outputs": [],
   "source": [
    "// добавление друго слайса\n",
    "otherBuf := make([]int, 3) // [0,0,0]\n",
    "buf = append(buf, otherBuf...) // len=6, cap=8"
   ]
  },
  {
   "cell_type": "code",
   "execution_count": 71,
   "metadata": {},
   "outputs": [
    {
     "name": "stdout",
     "output_type": "stream",
     "text": [
      "6 8\n",
      "4\n",
      "<nil>\n"
     ]
    }
   ],
   "source": [
    "// просмотр информации о слайсе\n",
    "var bufLen, bufCap int = len(buf), cap(buf)\n",
    "fmt.Println(bufLen, bufCap)"
   ]
  },
  {
   "cell_type": "code",
   "execution_count": 72,
   "metadata": {},
   "outputs": [
    {
     "name": "stdout",
     "output_type": "stream",
     "text": [
      "[1 2 3 4 5]\n",
      "12\n",
      "<nil>\n"
     ]
    }
   ],
   "source": [
    "buf := []int{1, 2, 3, 4, 5}\n",
    "fmt.Println(buf)"
   ]
  },
  {
   "cell_type": "code",
   "execution_count": 73,
   "metadata": {},
   "outputs": [
    {
     "name": "stdout",
     "output_type": "stream",
     "text": [
      "[2 3 4] [1 2] [3 4 5]\n",
      "22\n",
      "<nil>\n"
     ]
    }
   ],
   "source": [
    "// получение среза, указывающего на ту же память\n",
    "sl1 := buf[1:4] // [2, 3, 4]\n",
    "sl2 := buf[:2] // [1, 2]\n",
    "sl3 := buf[2:] // [3, 4, 5]\n",
    "fmt.Println(sl1, sl2, sl3)"
   ]
  },
  {
   "cell_type": "code",
   "execution_count": 74,
   "metadata": {},
   "outputs": [],
   "source": [
    "newBuf := buf[:] // [1, 2, 3, 4, 5]\n",
    "newBuf[0] = 9\n",
    "// buf = [9, 2, 3, 4, 5], т.к. та же память"
   ]
  },
  {
   "cell_type": "code",
   "execution_count": 75,
   "metadata": {},
   "outputs": [
    {
     "name": "stdout",
     "output_type": "stream",
     "text": [
      "buf [9 2 3 4 5]\n",
      "newBuf [1 2 3 4 5 6]\n",
      "21\n",
      "<nil>\n"
     ]
    }
   ],
   "source": [
    "// newBuf теперь указывает на другие данные\n",
    "newBuf = append(newBuf, 6)\n",
    "// buf = [9, 2, 3, 4, 5], не изменился\n",
    "// newBuf = [1, 2, 3, 4, 5, 6], изменился\n",
    "newBuf[0] = 1\n",
    "fmt.Println(\"buf\", buf)\n",
    "fmt.Println(\"newBuf\", newBuf)"
   ]
  },
  {
   "cell_type": "code",
   "execution_count": 76,
   "metadata": {},
   "outputs": [
    {
     "name": "stdout",
     "output_type": "stream",
     "text": [
      "0 []\n",
      "5\n",
      "<nil>\n"
     ]
    }
   ],
   "source": [
    "// копирование одного слайса в другой\n",
    "var emptyBuf []int // len=0, cap=0\n",
    "// неправильно - скопирует меньшее (по len) из 2-х слайсов\n",
    "copied := copy(emptyBuf, buf) // copied = 0\n",
    "fmt.Println(copied, emptyBuf)"
   ]
  },
  {
   "cell_type": "code",
   "execution_count": 77,
   "metadata": {},
   "outputs": [
    {
     "name": "stdout",
     "output_type": "stream",
     "text": [
      "[9 2 3 4 5]\n",
      "12\n",
      "<nil>\n"
     ]
    }
   ],
   "source": [
    "// правильно\n",
    "newBuf = make([]int, len(buf), len(buf))\n",
    "copy(newBuf, buf)\n",
    "fmt.Println(newBuf)"
   ]
  },
  {
   "cell_type": "code",
   "execution_count": 78,
   "metadata": {},
   "outputs": [
    {
     "name": "stdout",
     "output_type": "stream",
     "text": [
      "[1 5 6 4]\n",
      "10\n",
      "<nil>\n"
     ]
    }
   ],
   "source": [
    "// можно копировать в часть существующего слайса\n",
    "ints := []int{1, 2, 3, 4}\n",
    "copy(ints[1:3], []int{5, 6}) // ints = [1, 5, 6, 4]\n",
    "fmt.Println(ints)"
   ]
  },
  {
   "cell_type": "markdown",
   "metadata": {},
   "source": [
    "### Хеш-таблицы"
   ]
  },
  {
   "cell_type": "code",
   "execution_count": 79,
   "metadata": {},
   "outputs": [],
   "source": [
    "// инициализация при создании\n",
    "var user map[string]string = map[string]string{\n",
    "        \"name\": \"Vasily\",\n",
    "        \"lastName\": \"Romanov\",\n",
    "}"
   ]
  },
  {
   "cell_type": "code",
   "execution_count": 80,
   "metadata": {},
   "outputs": [
    {
     "name": "stdout",
     "output_type": "stream",
     "text": [
      "2 map[]\n",
      "8\n",
      "<nil>\n"
     ]
    }
   ],
   "source": [
    "// сразу с нужной ёмкостью\n",
    "profile := make(map[string]string, 10)\n",
    "// количество элементов\n",
    "mapLength := len(user)\n",
    "fmt.Printf(\"%d %+v\\n\", mapLength, profile)"
   ]
  },
  {
   "cell_type": "code",
   "execution_count": 81,
   "metadata": {},
   "outputs": [
    {
     "name": "stdout",
     "output_type": "stream",
     "text": [
      "mName: \n",
      "8\n",
      "<nil>\n"
     ]
    }
   ],
   "source": [
    "// если ключа нет - вернёт значение по умолчанию для типа\n",
    "mName := user[\"middleName\"]\n",
    "fmt.Println(\"mName:\", mName)"
   ]
  },
  {
   "cell_type": "code",
   "execution_count": 82,
   "metadata": {},
   "outputs": [
    {
     "name": "stdout",
     "output_type": "stream",
     "text": [
      "mName:  mNameExist: false\n",
      "26\n",
      "<nil>\n"
     ]
    }
   ],
   "source": [
    "// проверка на существование ключа\n",
    "mName, mNameExist := user[\"middleName\"]\n",
    "fmt.Println(\"mName:\", mName, \"mNameExist:\", mNameExist)"
   ]
  },
  {
   "cell_type": "code",
   "execution_count": 83,
   "metadata": {},
   "outputs": [
    {
     "name": "stdout",
     "output_type": "stream",
     "text": [
      "mNameExist2 false\n",
      "18\n",
      "<nil>\n"
     ]
    }
   ],
   "source": [
    "// пустая переменная - только проверяем что ключ есть\n",
    "_, mNameExist2 := user[\"middleName\"]\n",
    "fmt.Println(\"mNameExist2\", mNameExist2)"
   ]
  },
  {
   "cell_type": "code",
   "execution_count": 84,
   "metadata": {},
   "outputs": [
    {
     "name": "stdout",
     "output_type": "stream",
     "text": [
      "mNameExist2 false\n",
      "18\n",
      "<nil>\n"
     ]
    }
   ],
   "source": [
    "// пустая переменная - только проверяем что ключ есть\n",
    "_, mNameExist2 := user[\"middleName\"]\n",
    "fmt.Println(\"mNameExist2\", mNameExist2)"
   ]
  },
  {
   "cell_type": "code",
   "execution_count": 85,
   "metadata": {},
   "outputs": [
    {
     "name": "stdout",
     "output_type": "stream",
     "text": [
      "map[string]string{\"name\":\"Vasily\"}\n",
      "35\n",
      "<nil>\n"
     ]
    }
   ],
   "source": [
    "// удаление ключа\n",
    "delete(user, \"lastName\")\n",
    "fmt.Printf(\"%#v\\n\", user)"
   ]
  },
  {
   "cell_type": "markdown",
   "metadata": {},
   "source": [
    "## Управляющие конструкции"
   ]
  },
  {
   "cell_type": "markdown",
   "metadata": {},
   "source": [
    "### Условный оператор if"
   ]
  },
  {
   "cell_type": "code",
   "execution_count": 86,
   "metadata": {},
   "outputs": [
    {
     "name": "stdout",
     "output_type": "stream",
     "text": [
      "boolVal is true\n"
     ]
    }
   ],
   "source": [
    "// простое условие\n",
    "boolVal := true\n",
    "if boolVal {\n",
    "    fmt.Println(\"boolVal is true\")\n",
    "}"
   ]
  },
  {
   "cell_type": "code",
   "execution_count": 87,
   "metadata": {},
   "outputs": [
    {
     "name": "stdout",
     "output_type": "stream",
     "text": [
      "name = rvasily\n",
      "key ’name’ exist\n"
     ]
    }
   ],
   "source": [
    "mapVal := map[string]string{\"name\": \"rvasily\"}\n",
    "// условие с блоком инициализации\n",
    "if keyValue, keyExist := mapVal[\"name\"]; keyExist {\n",
    "    fmt.Println(\"name =\", keyValue)\n",
    "}\n",
    "// получаем только признак сущестования ключа\n",
    "if _, keyExist := mapVal[\"name\"]; keyExist {\n",
    "    fmt.Println(\"key ’name’ exist\")\n",
    "}"
   ]
  },
  {
   "cell_type": "markdown",
   "metadata": {},
   "source": [
    "### Оператор switch"
   ]
  },
  {
   "cell_type": "code",
   "execution_count": 88,
   "metadata": {},
   "outputs": [
    {
     "name": "stdout",
     "output_type": "stream",
     "text": [
      "cond is 1\n"
     ]
    }
   ],
   "source": [
    "cond := 1\n",
    "// множественные if else\n",
    "if cond == 1 {\n",
    "    fmt.Println(\"cond is 1\")\n",
    "} else if cond == 2 {\n",
    "    fmt.Println(\"cond is 2\")\n",
    "}"
   ]
  },
  {
   "cell_type": "code",
   "execution_count": 91,
   "metadata": {},
   "outputs": [],
   "source": [
    "// switch по 1 переменной\n",
    "strVal := \"name\"\n",
    "switch strVal {\n",
    "case \"name\":\n",
    "    fallthrough\n",
    "case \"test\", \"lastName\":\n",
    "    // some work\n",
    "default:\n",
    "    // some work\n",
    "}"
   ]
  },
  {
   "cell_type": "code",
   "execution_count": 92,
   "metadata": {},
   "outputs": [
    {
     "name": "stdout",
     "output_type": "stream",
     "text": [
      "first block\n"
     ]
    }
   ],
   "source": [
    "// switch как замена многим ifelse\n",
    "var val1, val2 = 2, 2\n",
    "switch {\n",
    "case val1 > 1 || val2 < 11:\n",
    "    fmt.Println(\"first block\")\n",
    "case val2 > 10:\n",
    "    fmt.Println(\"second block\")\n",
    "}"
   ]
  },
  {
   "cell_type": "code",
   "execution_count": 95,
   "metadata": {},
   "outputs": [],
   "source": [
    "key, val := \"firstName\", \"Vasily\"\n",
    "switch {\n",
    "case key == \"lastName\":\n",
    "    break\n",
    "    println(\"dont pront this\")\n",
    "case key == \"firstName\" && val == \"Vasily\":\n",
    "    println(\"switch - break loop here\")\n",
    "    break\n",
    "}"
   ]
  },
  {
   "cell_type": "code",
   "execution_count": 96,
   "metadata": {},
   "outputs": [],
   "source": [
    "// выход из цикла, находясь внутри switch\n",
    "Loop:\n",
    "    for key, val := range mapVal {\n",
    "        println(\"switch in loop\", key, val)\n",
    "        switch {\n",
    "        case key == \"lastName\":\n",
    "            break\n",
    "            println(\"dont pront this\")\n",
    "        case key == \"firstName\" && val == \"Vasily\":\n",
    "            println(\"switch - break loop here\")\n",
    "            break Loop\n",
    "    }\n",
    "} // конец for"
   ]
  },
  {
   "cell_type": "markdown",
   "metadata": {},
   "source": [
    "### Циклы for"
   ]
  },
  {
   "cell_type": "code",
   "execution_count": 98,
   "metadata": {},
   "outputs": [
    {
     "name": "stdout",
     "output_type": "stream",
     "text": [
      "loop iteration\n"
     ]
    }
   ],
   "source": [
    "// цикл без условия, while(true) OR for(;;;)\n",
    "for {\n",
    "    fmt.Println(\"loop iteration\")\n",
    "    break\n",
    "}"
   ]
  },
  {
   "cell_type": "code",
   "execution_count": 99,
   "metadata": {},
   "outputs": [
    {
     "name": "stdout",
     "output_type": "stream",
     "text": [
      "loop iteration with condition\n"
     ]
    }
   ],
   "source": [
    "// цикл c одиночным условием, while(isRun)\n",
    "isRun := true\n",
    "for isRun {\n",
    "    fmt.Println(\"loop iteration with condition\")\n",
    "    isRun = false\n",
    "}"
   ]
  },
  {
   "cell_type": "code",
   "execution_count": 100,
   "metadata": {},
   "outputs": [
    {
     "name": "stdout",
     "output_type": "stream",
     "text": [
      "loop iteration 0\n",
      "loop iteration 1\n"
     ]
    }
   ],
   "source": [
    "// цикл с условие и блоком инициализации\n",
    "for i := 0; i < 2; i++ {\n",
    "    fmt.Println(\"loop iteration\", i)\n",
    "    if i == 1 {\n",
    "        continue\n",
    "    }\n",
    "}"
   ]
  },
  {
   "cell_type": "code",
   "execution_count": 101,
   "metadata": {},
   "outputs": [
    {
     "name": "stdout",
     "output_type": "stream",
     "text": [
      "while-stype loop, idx: 0 value: 1\n",
      "while-stype loop, idx: 1 value: 2\n",
      "while-stype loop, idx: 2 value: 3\n"
     ]
    }
   ],
   "source": [
    "// операции по slice\n",
    "sl := []int{1, 2, 3}\n",
    "idx := 0\n",
    "for idx < len(sl) {\n",
    "    fmt.Println(\"while-stype loop, idx:\", idx, \"value:\", sl[idx])\n",
    "    idx++\n",
    "}"
   ]
  },
  {
   "cell_type": "code",
   "execution_count": 102,
   "metadata": {},
   "outputs": [
    {
     "name": "stdout",
     "output_type": "stream",
     "text": [
      "c-style loop 0 1\n",
      "c-style loop 1 2\n",
      "c-style loop 2 3\n"
     ]
    }
   ],
   "source": [
    "for i := 0; i < len(sl); i++ {\n",
    "    fmt.Println(\"c-style loop\", i, sl[i])\n",
    "}"
   ]
  },
  {
   "cell_type": "code",
   "execution_count": 103,
   "metadata": {},
   "outputs": [
    {
     "name": "stdout",
     "output_type": "stream",
     "text": [
      "range slice by index 1\n",
      "range slice by index 2\n",
      "range slice by index 3\n"
     ]
    }
   ],
   "source": [
    "for idx := range sl {\n",
    "    fmt.Println(\"range slice by index\", sl[idx])\n",
    "}"
   ]
  },
  {
   "cell_type": "code",
   "execution_count": 104,
   "metadata": {},
   "outputs": [
    {
     "name": "stdout",
     "output_type": "stream",
     "text": [
      "range map by key 1\n",
      "range map by key 2\n"
     ]
    }
   ],
   "source": [
    "// операции по map\n",
    "profile := map[int]string{1: \"Vasily\", 2: \"Romanov\"}\n",
    "for key := range profile {\n",
    "    fmt.Println(\"range map by key\", key)\n",
    "}"
   ]
  },
  {
   "cell_type": "code",
   "execution_count": 105,
   "metadata": {},
   "outputs": [
    {
     "name": "stdout",
     "output_type": "stream",
     "text": [
      "range map by key-val 2 Romanov\n",
      "range map by key-val 1 Vasily\n"
     ]
    }
   ],
   "source": [
    "for key, val := range profile {\n",
    "    fmt.Println(\"range map by key-val\", key, val)\n",
    "}"
   ]
  },
  {
   "cell_type": "code",
   "execution_count": 106,
   "metadata": {},
   "outputs": [
    {
     "name": "stdout",
     "output_type": "stream",
     "text": [
      "range map by val Vasily\n",
      "range map by val Romanov\n"
     ]
    }
   ],
   "source": [
    "for _, val := range profile {\n",
    "    fmt.Println(\"range map by val\", val)\n",
    "}"
   ]
  },
  {
   "cell_type": "code",
   "execution_count": 107,
   "metadata": {},
   "outputs": [
    {
     "name": "stdout",
     "output_type": "stream",
     "text": [
      "U+041F 'П' at pos 0\n",
      "U+0440 'р' at pos 2\n",
      "U+0438 'и' at pos 4\n",
      "U+0432 'в' at pos 6\n",
      "U+0435 'е' at pos 8\n",
      "U+0442 'т' at pos 10\n",
      "U+002C ',' at pos 12\n",
      "U+0020 ' ' at pos 13\n",
      "U+041C 'М' at pos 14\n",
      "U+0438 'и' at pos 16\n",
      "U+0440 'р' at pos 18\n",
      "U+0021 '!' at pos 20\n"
     ]
    }
   ],
   "source": [
    "str := \"Привет, Мир!\"\n",
    "for pos, char := range str {\n",
    "    fmt.Printf(\"%#U at pos %d\\n\", char, pos)\n",
    "}"
   ]
  },
  {
   "cell_type": "markdown",
   "metadata": {},
   "source": [
    "## Функции"
   ]
  },
  {
   "cell_type": "markdown",
   "metadata": {},
   "source": [
    "### Основы функций"
   ]
  },
  {
   "cell_type": "code",
   "execution_count": 108,
   "metadata": {},
   "outputs": [],
   "source": [
    "// обычное объявление\n",
    "func singleIn(in int) int {\n",
    "    return in\n",
    "}"
   ]
  },
  {
   "cell_type": "code",
   "execution_count": 109,
   "metadata": {},
   "outputs": [],
   "source": [
    "// много параметров\n",
    "func multIn(a, b int, c int) int {\n",
    "    return a + b + c\n",
    "}"
   ]
  },
  {
   "cell_type": "code",
   "execution_count": 110,
   "metadata": {},
   "outputs": [],
   "source": [
    "// именованный результат\n",
    "func namedReturn() (out int) {\n",
    "    out = 2\n",
    "    return\n",
    "}"
   ]
  },
  {
   "cell_type": "code",
   "execution_count": 111,
   "metadata": {},
   "outputs": [],
   "source": [
    "// несколько результатов\n",
    "func multipleReturn(in int) (int, error) {\n",
    "    if in > 2 {\n",
    "        return 0, fmt.Errorf(\"some error happend\")\n",
    "    }\n",
    "    return in, nil\n",
    "}"
   ]
  },
  {
   "cell_type": "code",
   "execution_count": 112,
   "metadata": {},
   "outputs": [],
   "source": [
    "// несколько именованных результатов\n",
    "func multipleNamedReturn(ok bool) (rez int, err error) {\n",
    "    rez = 1\n",
    "    if ok {\n",
    "        err = fmt.Errorf(\"some error happend\")\n",
    "        //return\n",
    "        // аналогично return rez, err\n",
    "        return 3, fmt.Errorf(\"some error happend\")\n",
    "        }\n",
    "    rez = 2\n",
    "    return\n",
    "}"
   ]
  },
  {
   "cell_type": "code",
   "execution_count": 113,
   "metadata": {},
   "outputs": [],
   "source": [
    "// не фиксированное количество параметров\n",
    "func sum(in ...int) (result int) {\n",
    "    fmt.Printf(\"in := %#v \\n\", in)\n",
    "    for _, val := range in {\n",
    "        result += val\n",
    "    }\n",
    "    return\n",
    "}"
   ]
  },
  {
   "cell_type": "code",
   "execution_count": 114,
   "metadata": {},
   "outputs": [
    {
     "name": "stdout",
     "output_type": "stream",
     "text": [
      "in := []int{1, 2, 3, 4} \n",
      "[1 2 3 4] 10\n",
      "13\n",
      "<nil>\n"
     ]
    }
   ],
   "source": [
    "nums := []int{1, 2, 3, 4}\n",
    "fmt.Println(nums, sum(nums...))"
   ]
  },
  {
   "cell_type": "markdown",
   "metadata": {},
   "source": [
    "### Функция, как объект первого класса, анонимные функции"
   ]
  },
  {
   "cell_type": "code",
   "execution_count": 115,
   "metadata": {},
   "outputs": [],
   "source": [
    "// обычная функция\n",
    "func doNothing() {\n",
    "    fmt.Println(\"i’m regular function\")\n",
    "}"
   ]
  },
  {
   "cell_type": "code",
   "execution_count": 119,
   "metadata": {},
   "outputs": [
    {
     "name": "stdout",
     "output_type": "stream",
     "text": [
      "anon func out: nobody\n"
     ]
    }
   ],
   "source": [
    "func main() {\n",
    "// анонимная функция\n",
    "    func(in string) {\n",
    "        fmt.Println(\"anon func out:\", in)\n",
    "    }(\"nobody\")\n",
    "}\n",
    "\n",
    "main()"
   ]
  },
  {
   "cell_type": "code",
   "execution_count": 120,
   "metadata": {},
   "outputs": [
    {
     "name": "stdout",
     "output_type": "stream",
     "text": [
      "printer outs: as variable\n"
     ]
    }
   ],
   "source": [
    "// присванивание анонимной функции в переменную\n",
    "printer := func(in string) {\n",
    "    fmt.Println(\"printer outs:\", in)\n",
    "}\n",
    "printer(\"as variable\")"
   ]
  },
  {
   "cell_type": "code",
   "execution_count": 121,
   "metadata": {},
   "outputs": [],
   "source": [
    "// определяем тип функции\n",
    "type strFuncType func(string)"
   ]
  },
  {
   "cell_type": "code",
   "execution_count": 122,
   "metadata": {},
   "outputs": [
    {
     "name": "stdout",
     "output_type": "stream",
     "text": [
      "printer outs: as callback\n"
     ]
    }
   ],
   "source": [
    "// функция принимает коллбек\n",
    "worker := func(callback strFuncType) {\n",
    "    callback(\"as callback\")\n",
    "}\n",
    "worker(printer)"
   ]
  },
  {
   "cell_type": "code",
   "execution_count": 123,
   "metadata": {},
   "outputs": [
    {
     "name": "stdout",
     "output_type": "stream",
     "text": [
      "[SUCCESS] expected behaviour\n"
     ]
    }
   ],
   "source": [
    "// функиция возвращает замыкание\n",
    "prefixer := func(prefix string) strFuncType {\n",
    "    return func(in string) {\n",
    "        fmt.Printf(\"[%s] %s\\n\", prefix, in)\n",
    "    }\n",
    "}\n",
    "successLogger := prefixer(\"SUCCESS\")\n",
    "successLogger(\"expected behaviour\")"
   ]
  },
  {
   "cell_type": "markdown",
   "metadata": {},
   "source": [
    "### Отложенное выполнение и обработка паники"
   ]
  },
  {
   "cell_type": "code",
   "execution_count": 124,
   "metadata": {},
   "outputs": [
    {
     "name": "stdout",
     "output_type": "stream",
     "text": [
      "getSomeVars execution\n",
      "Some userful work\n",
      "18\n",
      "<nil>\n",
      "getSomeVars result\n",
      "After work\n"
     ]
    }
   ],
   "source": [
    "func getSomeVars() string {\n",
    "    fmt.Println(\"getSomeVars execution\")\n",
    "    return \"getSomeVars result\"\n",
    "}\n",
    "\n",
    "defer fmt.Println(\"After work\")\n",
    "defer fmt.Println(getSomeVars())\n",
    "fmt.Println(\"Some userful work\")"
   ]
  },
  {
   "cell_type": "code",
   "execution_count": 125,
   "metadata": {},
   "outputs": [
    {
     "name": "stdout",
     "output_type": "stream",
     "text": [
      "Some userful work\n",
      "getSomeVars execution\n",
      "getSomeVars result\n",
      "After work\n"
     ]
    }
   ],
   "source": [
    "func getSomeVars() string {\n",
    "    fmt.Println(\"getSomeVars execution\")\n",
    "    return \"getSomeVars result\"\n",
    "}\n",
    "\n",
    "func main() {\n",
    "    defer fmt.Println(\"After work\")\n",
    "    defer func() {\n",
    "        fmt.Println(getSomeVars())\n",
    "    }()\n",
    "    fmt.Println(\"Some userful work\")\n",
    "}\n",
    "\n",
    "main()"
   ]
  },
  {
   "cell_type": "code",
   "execution_count": 126,
   "metadata": {},
   "outputs": [
    {
     "name": "stdout",
     "output_type": "stream",
     "text": [
      "Some userful work\n"
     ]
    },
    {
     "name": "stderr",
     "output_type": "stream",
     "text": [
      "panic: something bad happend\n",
      "\n",
      "goroutine 656 [running]:\n",
      "runtime/debug.Stack(0xc400000008, 0x7f74187623f8, 0xc42094d490)\n",
      "\t/usr/local/go/src/runtime/debug/stack.go:24 +0xa9\n",
      "github.com/yunabe/lgo/core.(*resultCounter).recordResult(0xc42094d478, 0x7f74185871c0, 0x7f73ab343740)\n",
      "\t/go/src/github.com/yunabe/lgo/core/core.go:95 +0xce\n",
      "github.com/yunabe/lgo/core.(*resultCounter).recordResultInDefer(0xc42094d478)\n",
      "\t/go/src/github.com/yunabe/lgo/core/core.go:100 +0x3b\n",
      "panic(0x7f74185871c0, 0x7f73ab343740)\n",
      "\t/usr/local/go/src/runtime/panic.go:491 +0x294\n",
      "github.com/yunabe/lgo/sess7b2274696d65223a313535313031373733353439383636363633377d/exec126.LgoExport_deferTest()\n",
      "\t/go/src/github.com/yunabe/lgo/sess7b2274696d65223a313535313031373733353439383636363633377d/exec126/src.go:9 +0x93\n",
      "github.com/yunabe/lgo/sess7b2274696d65223a313535313031373733353439383636363633377d/exec126.LgoExport_main()\n",
      "\t/go/src/github.com/yunabe/lgo/sess7b2274696d65223a313535313031373733353439383636363633377d/exec126/src.go:14 +0x27\n",
      "github.com/yunabe/lgo/sess7b2274696d65223a313535313031373733353439383636363633377d/exec126.lgo_init()\n",
      "\t/go/src/github.com/yunabe/lgo/sess7b2274696d65223a313535313031373733353439383636363633377d/exec126/src.go:20 +0x27\n",
      "github.com/yunabe/lgo/cmd/runner.loadShared.func3()\n",
      "\t/go/src/github.com/yunabe/lgo/cmd/runner/runner.go:62 +0x26\n",
      "github.com/yunabe/lgo/core.startExec.func1(0xc42094d440, 0xc420163550)\n",
      "\t/go/src/github.com/yunabe/lgo/core/core.go:256 +0x83\n",
      "created by github.com/yunabe/lgo/core.startExec\n",
      "\t/go/src/github.com/yunabe/lgo/core/core.go:253 +0xcb\n",
      "main routine failed\n"
     ]
    }
   ],
   "source": [
    "func deferTest() {\n",
    "    fmt.Println(\"Some userful work\")\n",
    "    panic(\"something bad happend\")\n",
    "    return\n",
    "}\n",
    "\n",
    "func main() {\n",
    "    deferTest()\n",
    "    return\n",
    "}\n",
    "\n",
    "main()"
   ]
  },
  {
   "cell_type": "code",
   "execution_count": 129,
   "metadata": {},
   "outputs": [
    {
     "name": "stdout",
     "output_type": "stream",
     "text": [
      "0.1\n",
      "4\n",
      "<nil>\n"
     ]
    }
   ],
   "source": [
    "var f float64 = 0.1\n",
    "fmt.Println(f)"
   ]
  }
 ],
 "metadata": {
  "kernelspec": {
   "display_name": "Go (lgo)",
   "language": "go",
   "name": "lgo"
  },
  "language_info": {
   "file_extension": "",
   "mimetype": "",
   "name": "go",
   "version": ""
  }
 },
 "nbformat": 4,
 "nbformat_minor": 2
}
