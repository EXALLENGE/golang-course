{
 "cells": [
  {
   "cell_type": "markdown",
   "metadata": {},
   "source": [
    "# Основы языка"
   ]
  },
  {
   "cell_type": "markdown",
   "metadata": {},
   "source": [
    "## Переменные"
   ]
  },
  {
   "cell_type": "markdown",
   "metadata": {},
   "source": [
    "### Объявление переменных"
   ]
  },
  {
   "cell_type": "markdown",
   "metadata": {},
   "source": [
    "Короткое объявление переменной"
   ]
  },
  {
   "cell_type": "code",
   "execution_count": 9,
   "metadata": {},
   "outputs": [],
   "source": [
    "s := \"\""
   ]
  },
  {
   "cell_type": "markdown",
   "metadata": {},
   "source": [
    "Значение по умолчанию"
   ]
  },
  {
   "cell_type": "code",
   "execution_count": 10,
   "metadata": {},
   "outputs": [],
   "source": [
    "var s string"
   ]
  },
  {
   "cell_type": "markdown",
   "metadata": {},
   "source": [
    "Пропуск типа"
   ]
  },
  {
   "cell_type": "code",
   "execution_count": 11,
   "metadata": {},
   "outputs": [],
   "source": [
    "var s = \"\""
   ]
  },
  {
   "cell_type": "markdown",
   "metadata": {},
   "source": [
    "Значение при инициализации"
   ]
  },
  {
   "cell_type": "code",
   "execution_count": 12,
   "metadata": {},
   "outputs": [],
   "source": [
    "var s string = \"\""
   ]
  },
  {
   "cell_type": "markdown",
   "metadata": {},
   "source": [
    "### Тип int"
   ]
  },
  {
   "cell_type": "code",
   "execution_count": 15,
   "metadata": {},
   "outputs": [],
   "source": [
    "// int - платформозависимый тип, 32/64\n",
    "var i int = 10"
   ]
  },
  {
   "cell_type": "code",
   "execution_count": 16,
   "metadata": {},
   "outputs": [],
   "source": [
    "// автоматически выбранный int\n",
    "var autoInt = -10"
   ]
  },
  {
   "cell_type": "code",
   "execution_count": 17,
   "metadata": {},
   "outputs": [],
   "source": [
    "// int8, int16, int32, int64\n",
    "var bigInt int64 = 1<<32 - 1"
   ]
  },
  {
   "cell_type": "code",
   "execution_count": 18,
   "metadata": {},
   "outputs": [],
   "source": [
    "// платформозависимый тип, 32/64\n",
    "var unsignedInt uint = 100500"
   ]
  },
  {
   "cell_type": "code",
   "execution_count": 19,
   "metadata": {},
   "outputs": [],
   "source": [
    "// uint8, unit16, uint32, unit64\n",
    "var unsignedBigInt uint64 = 1<<64 - 1"
   ]
  },
  {
   "cell_type": "markdown",
   "metadata": {},
   "source": [
    "### Тип float"
   ]
  },
  {
   "cell_type": "code",
   "execution_count": 20,
   "metadata": {},
   "outputs": [],
   "source": [
    "// float32, float64\n",
    "var pi float32 = 3.141\n",
    "var e = 2.718\n",
    "goldenRatio := 1.618"
   ]
  },
  {
   "cell_type": "markdown",
   "metadata": {},
   "source": [
    "### Тип bool"
   ]
  },
  {
   "cell_type": "code",
   "execution_count": 21,
   "metadata": {},
   "outputs": [],
   "source": [
    "// bool\n",
    "var b bool // false по-умолчанию\n",
    "var isOk bool = true\n",
    "var success = true\n",
    "cond := true"
   ]
  },
  {
   "cell_type": "markdown",
   "metadata": {},
   "source": [
    "### Тип complex"
   ]
  },
  {
   "cell_type": "code",
   "execution_count": 22,
   "metadata": {},
   "outputs": [],
   "source": [
    "// complex64, complex128\n",
    "var c complex128 = -1.1 + 7.12i\n",
    "c2 := -1.1 + 7.12i"
   ]
  },
  {
   "cell_type": "markdown",
   "metadata": {},
   "source": [
    "### Тип string"
   ]
  },
  {
   "cell_type": "code",
   "execution_count": 23,
   "metadata": {},
   "outputs": [],
   "source": [
    "// пустая строка по-умолчанию\n",
    "var str string"
   ]
  },
  {
   "cell_type": "code",
   "execution_count": 24,
   "metadata": {},
   "outputs": [],
   "source": [
    "// со спец символами\n",
    "var hello string = \"Привет\\n\\t\""
   ]
  },
  {
   "cell_type": "code",
   "execution_count": 25,
   "metadata": {},
   "outputs": [],
   "source": [
    "// без спец символов\n",
    "var world string = `Мир\\n\\t`"
   ]
  },
  {
   "cell_type": "code",
   "execution_count": 26,
   "metadata": {},
   "outputs": [],
   "source": [
    "// UTF-8 из коробки\n",
    "var helloWorld = \"Привет, Мир!\""
   ]
  },
  {
   "cell_type": "code",
   "execution_count": 29,
   "metadata": {},
   "outputs": [],
   "source": [
    "// одинарные кавычки для байт (uint8)\n",
    "var rawBinary byte = '\\x27'"
   ]
  },
  {
   "cell_type": "code",
   "execution_count": 30,
   "metadata": {},
   "outputs": [],
   "source": [
    "// rune (uint32) для UTF-8 символов\n",
    "var someRune rune = '*'"
   ]
  },
  {
   "cell_type": "code",
   "execution_count": 31,
   "metadata": {},
   "outputs": [],
   "source": [
    "helloWorld := \"Привет Мир\"\n",
    "// конкатенация строк\n",
    "andGoodMorning := helloWorld + \" и доброе утро!\""
   ]
  },
  {
   "cell_type": "code",
   "execution_count": 32,
   "metadata": {},
   "outputs": [
    {
     "name": "stderr",
     "output_type": "stream",
     "text": [
      "3:1: cannot assign to helloWorld[0] (value of type byte)\n"
     ]
    }
   ],
   "source": [
    "// строки неизменяемы\n",
    "// cannot assign to helloWorld[0]\n",
    "helloWorld[0] = 72"
   ]
  },
  {
   "cell_type": "code",
   "execution_count": 36,
   "metadata": {},
   "outputs": [],
   "source": [
    "import \"unicode/utf8\"\n",
    "\n",
    "// получение длины строки\n",
    "byteLen := len(helloWorld) // 19 байт\n",
    "symbols := utf8.RuneCountInString(helloWorld) // 10 рун"
   ]
  },
  {
   "cell_type": "code",
   "execution_count": 37,
   "metadata": {},
   "outputs": [],
   "source": [
    "// получение подстроки, в байтах, не символах!\n",
    "hello := helloWorld[:12] // Привет, 0-11 байты\n",
    "H := helloWorld[0] // byte, 72, не \"П\""
   ]
  },
  {
   "cell_type": "code",
   "execution_count": 39,
   "metadata": {},
   "outputs": [],
   "source": [
    "// конвертация в слайс байт и обратно\n",
    "byteString := []byte(helloWorld)\n",
    "helloWorld = string(byteString)"
   ]
  },
  {
   "cell_type": "markdown",
   "metadata": {},
   "source": [
    "### Констатнты"
   ]
  },
  {
   "cell_type": "code",
   "execution_count": 40,
   "metadata": {},
   "outputs": [],
   "source": [
    "const pi = 3.141"
   ]
  },
  {
   "cell_type": "code",
   "execution_count": 41,
   "metadata": {},
   "outputs": [],
   "source": [
    "const (\n",
    "    hello = \"Привет\"\n",
    "    e = 2.718\n",
    ")"
   ]
  },
  {
   "cell_type": "code",
   "execution_count": 46,
   "metadata": {},
   "outputs": [],
   "source": [
    "const (\n",
    "    zero = iota\n",
    "    _     // пустая переменная, пропуск iota\n",
    "    _     // пустая переменная, пропуск iota\n",
    "    three // = 3\n",
    ")"
   ]
  },
  {
   "cell_type": "code",
   "execution_count": 47,
   "metadata": {},
   "outputs": [
    {
     "name": "stdout",
     "output_type": "stream",
     "text": [
      "3\n"
     ]
    }
   ],
   "source": [
    "three"
   ]
  },
  {
   "cell_type": "code",
   "execution_count": 48,
   "metadata": {},
   "outputs": [],
   "source": [
    "const (\n",
    "    _ = iota // пропускаем первое значне\n",
    "    KB uint64 = 1 << (10 * iota) // 1024\n",
    "    MB // 1048576\n",
    ")"
   ]
  },
  {
   "cell_type": "code",
   "execution_count": 56,
   "metadata": {},
   "outputs": [
    {
     "name": "stdout",
     "output_type": "stream",
     "text": [
      "2030\n",
      "5\n",
      "<nil>\n"
     ]
    }
   ],
   "source": [
    "const (\n",
    "    // нетипизированная константа\n",
    "    year = 2017\n",
    "    // типизированная константа\n",
    "    yearTyped int = 2017\n",
    ")\n",
    "\n",
    "var month int32 = 13\n",
    "\n",
    "fmt.Println(month + year)"
   ]
  },
  {
   "cell_type": "code",
   "execution_count": 57,
   "metadata": {},
   "outputs": [
    {
     "name": "stderr",
     "output_type": "stream",
     "text": [
      "1:13: invalid operation: mismatched types int32 and int\n"
     ]
    }
   ],
   "source": [
    "fmt.Println(month + yearTyped)"
   ]
  },
  {
   "cell_type": "markdown",
   "metadata": {},
   "source": [
    "### Определение типов"
   ]
  },
  {
   "cell_type": "code",
   "execution_count": 58,
   "metadata": {},
   "outputs": [
    {
     "name": "stdout",
     "output_type": "stream",
     "text": [
      "42 1\n",
      "5\n",
      "<nil>\n"
     ]
    }
   ],
   "source": [
    "type UserID int\n",
    "idx := 1\n",
    "var uid UserID = 42\n",
    "myID := UserID(idx)\n",
    "fmt.Println(uid, myID)"
   ]
  },
  {
   "cell_type": "markdown",
   "metadata": {},
   "source": [
    "### Указатели"
   ]
  },
  {
   "cell_type": "code",
   "execution_count": 59,
   "metadata": {},
   "outputs": [],
   "source": [
    "a := 2\n",
    "b := &a\n",
    "*b = 3 // a = 3\n",
    "c := &a // новый указатель на переменную a\n",
    "\n",
    "// получение указателя на переменнут типа int\n",
    "// инициализировано значением по-умолчанию\n",
    "d := new(int)\n",
    "*d = 12\n",
    "\n",
    "*c = *d // *c = 12 -> a = 12\n",
    "*d = 13 // c и a не изменились\n",
    "\n",
    "c = d // теперь с указывает туда же, куда d\n",
    "*c = 14 // с = 14 -> d = 14, a = 12"
   ]
  },
  {
   "cell_type": "markdown",
   "metadata": {},
   "source": [
    "### Массивы"
   ]
  },
  {
   "cell_type": "code",
   "execution_count": 60,
   "metadata": {},
   "outputs": [
    {
     "name": "stdout",
     "output_type": "stream",
     "text": [
      "a1 short [0 0 0]\n",
      "a1 short [0 0 0]\n",
      "a1 full [3]int{0, 0, 0}\n",
      "24\n",
      "<nil>\n"
     ]
    }
   ],
   "source": [
    "// размер массива является частью его типа\n",
    "// инициализация значениями по-умолчанию\n",
    "var a1 [3]int // [0,0,0]\n",
    "fmt.Println(\"a1 short\", a1)\n",
    "fmt.Printf(\"a1 short %v\\n\", a1)\n",
    "fmt.Printf(\"a1 full %#v\\n\", a1)"
   ]
  },
  {
   "cell_type": "code",
   "execution_count": 61,
   "metadata": {},
   "outputs": [
    {
     "name": "stdout",
     "output_type": "stream",
     "text": [
      "a2 [false false false false]\n",
      "29\n",
      "<nil>\n"
     ]
    }
   ],
   "source": [
    "const size = 2\n",
    "var a2 [2 * size]bool // [false,false,false,false]\n",
    "fmt.Println(\"a2\", a2)"
   ]
  },
  {
   "cell_type": "code",
   "execution_count": 62,
   "metadata": {},
   "outputs": [
    {
     "name": "stderr",
     "output_type": "stream",
     "text": [
      "2:8: array length size (variable of type int) must be constant\n"
     ]
    }
   ],
   "source": [
    "size := 2\n",
    "var a2[size] bool"
   ]
  },
  {
   "cell_type": "code",
   "execution_count": 63,
   "metadata": {},
   "outputs": [
    {
     "name": "stdout",
     "output_type": "stream",
     "text": [
      "a2 [1 2 3]\n",
      "11\n",
      "<nil>\n"
     ]
    }
   ],
   "source": [
    "a3 := [...]int{1, 2, 3}\n",
    "fmt.Println(\"a2\", a3)"
   ]
  },
  {
   "cell_type": "code",
   "execution_count": 64,
   "metadata": {},
   "outputs": [
    {
     "name": "stderr",
     "output_type": "stream",
     "text": [
      "1:4: index 4 (constant of type int) is out of bounds\n"
     ]
    }
   ],
   "source": [
    "a3[4] = 12"
   ]
  },
  {
   "cell_type": "markdown",
   "metadata": {},
   "source": [
    "### Слайсы"
   ]
  },
  {
   "cell_type": "code",
   "execution_count": 65,
   "metadata": {},
   "outputs": [],
   "source": [
    "var buf0 []int // len=0, cap=0\n",
    "buf1 := []int{} // len=0, cap=0\n",
    "buf2 := []int{42} // len=1, cap=1\n",
    "buf3 := make([]int, 0) // len=0, cap=0\n",
    "buf4 := make([]int, 5) // len=5, cap=5\n",
    "buf5 := make([]int, 5, 10) // len=5, cap=10"
   ]
  },
  {
   "cell_type": "code",
   "execution_count": 68,
   "metadata": {},
   "outputs": [],
   "source": [
    "// обращение к элементам\n",
    "someInt := buf2[0]"
   ]
  },
  {
   "cell_type": "code",
   "execution_count": 67,
   "metadata": {},
   "outputs": [
    {
     "name": "stderr",
     "output_type": "stream",
     "text": [
      "panic: runtime error: index out of range\n",
      "\n",
      "goroutine 434 [running]:\n",
      "runtime/debug.Stack(0xc400000008, 0x7f74187623f8, 0xc42094c4d0)\n",
      "\t/usr/local/go/src/runtime/debug/stack.go:24 +0xa9\n",
      "github.com/yunabe/lgo/core.(*resultCounter).recordResult(0xc42094c4b8, 0x7f7418674100, 0x7f7418a844a0)\n",
      "\t/go/src/github.com/yunabe/lgo/core/core.go:95 +0xce\n",
      "github.com/yunabe/lgo/core.(*resultCounter).recordResultInDefer(0xc42094c4b8)\n",
      "\t/go/src/github.com/yunabe/lgo/core/core.go:100 +0x3b\n",
      "panic(0x7f7418674100, 0x7f7418a844a0)\n",
      "\t/usr/local/go/src/runtime/panic.go:491 +0x294\n",
      "github.com/yunabe/lgo/sess7b2274696d65223a313535313031373733353439383636363633377d/exec67.lgo_init()\n",
      "\t/go/src/github.com/yunabe/lgo/sess7b2274696d65223a313535313031373733353439383636363633377d/exec67/src.go:8 +0x8d\n",
      "github.com/yunabe/lgo/cmd/runner.loadShared.func3()\n",
      "\t/go/src/github.com/yunabe/lgo/cmd/runner/runner.go:62 +0x26\n",
      "github.com/yunabe/lgo/core.startExec.func1(0xc42094c480, 0xc420162010)\n",
      "\t/go/src/github.com/yunabe/lgo/core/core.go:256 +0x83\n",
      "created by github.com/yunabe/lgo/core.startExec\n",
      "\t/go/src/github.com/yunabe/lgo/core/core.go:253 +0xcb\n",
      "main routine failed\n"
     ]
    }
   ],
   "source": [
    "someOtherInt := buf2[1]"
   ]
  },
  {
   "cell_type": "code",
   "execution_count": 69,
   "metadata": {},
   "outputs": [],
   "source": [
    "// добавление элементов\n",
    "var buf []int // len=0, cap=0\n",
    "buf = append(buf, 9, 10) // len=2, cap=2\n",
    "buf = append(buf, 12) // len=3, cap=4"
   ]
  },
  {
   "cell_type": "code",
   "execution_count": 70,
   "metadata": {},
   "outputs": [],
   "source": [
    "// добавление друго слайса\n",
    "otherBuf := make([]int, 3) // [0,0,0]\n",
    "buf = append(buf, otherBuf...) // len=6, cap=8"
   ]
  },
  {
   "cell_type": "code",
   "execution_count": 71,
   "metadata": {},
   "outputs": [
    {
     "name": "stdout",
     "output_type": "stream",
     "text": [
      "6 8\n",
      "4\n",
      "<nil>\n"
     ]
    }
   ],
   "source": [
    "// просмотр информации о слайсе\n",
    "var bufLen, bufCap int = len(buf), cap(buf)\n",
    "fmt.Println(bufLen, bufCap)"
   ]
  },
  {
   "cell_type": "code",
   "execution_count": 72,
   "metadata": {},
   "outputs": [
    {
     "name": "stdout",
     "output_type": "stream",
     "text": [
      "[1 2 3 4 5]\n",
      "12\n",
      "<nil>\n"
     ]
    }
   ],
   "source": [
    "buf := []int{1, 2, 3, 4, 5}\n",
    "fmt.Println(buf)"
   ]
  },
  {
   "cell_type": "code",
   "execution_count": 73,
   "metadata": {},
   "outputs": [
    {
     "name": "stdout",
     "output_type": "stream",
     "text": [
      "[2 3 4] [1 2] [3 4 5]\n",
      "22\n",
      "<nil>\n"
     ]
    }
   ],
   "source": [
    "// получение среза, указывающего на ту же память\n",
    "sl1 := buf[1:4] // [2, 3, 4]\n",
    "sl2 := buf[:2] // [1, 2]\n",
    "sl3 := buf[2:] // [3, 4, 5]\n",
    "fmt.Println(sl1, sl2, sl3)"
   ]
  },
  {
   "cell_type": "code",
   "execution_count": 74,
   "metadata": {},
   "outputs": [],
   "source": [
    "newBuf := buf[:] // [1, 2, 3, 4, 5]\n",
    "newBuf[0] = 9\n",
    "// buf = [9, 2, 3, 4, 5], т.к. та же память"
   ]
  },
  {
   "cell_type": "code",
   "execution_count": 75,
   "metadata": {},
   "outputs": [
    {
     "name": "stdout",
     "output_type": "stream",
     "text": [
      "buf [9 2 3 4 5]\n",
      "newBuf [1 2 3 4 5 6]\n",
      "21\n",
      "<nil>\n"
     ]
    }
   ],
   "source": [
    "// newBuf теперь указывает на другие данные\n",
    "newBuf = append(newBuf, 6)\n",
    "// buf = [9, 2, 3, 4, 5], не изменился\n",
    "// newBuf = [1, 2, 3, 4, 5, 6], изменился\n",
    "newBuf[0] = 1\n",
    "fmt.Println(\"buf\", buf)\n",
    "fmt.Println(\"newBuf\", newBuf)"
   ]
  },
  {
   "cell_type": "code",
   "execution_count": 76,
   "metadata": {},
   "outputs": [
    {
     "name": "stdout",
     "output_type": "stream",
     "text": [
      "0 []\n",
      "5\n",
      "<nil>\n"
     ]
    }
   ],
   "source": [
    "// копирование одного слайса в другой\n",
    "var emptyBuf []int // len=0, cap=0\n",
    "// неправильно - скопирует меньшее (по len) из 2-х слайсов\n",
    "copied := copy(emptyBuf, buf) // copied = 0\n",
    "fmt.Println(copied, emptyBuf)"
   ]
  },
  {
   "cell_type": "code",
   "execution_count": 77,
   "metadata": {},
   "outputs": [
    {
     "name": "stdout",
     "output_type": "stream",
     "text": [
      "[9 2 3 4 5]\n",
      "12\n",
      "<nil>\n"
     ]
    }
   ],
   "source": [
    "// правильно\n",
    "newBuf = make([]int, len(buf), len(buf))\n",
    "copy(newBuf, buf)\n",
    "fmt.Println(newBuf)"
   ]
  },
  {
   "cell_type": "code",
   "execution_count": 78,
   "metadata": {},
   "outputs": [
    {
     "name": "stdout",
     "output_type": "stream",
     "text": [
      "[1 5 6 4]\n",
      "10\n",
      "<nil>\n"
     ]
    }
   ],
   "source": [
    "// можно копировать в часть существующего слайса\n",
    "ints := []int{1, 2, 3, 4}\n",
    "copy(ints[1:3], []int{5, 6}) // ints = [1, 5, 6, 4]\n",
    "fmt.Println(ints)"
   ]
  }
 ],
 "metadata": {
  "kernelspec": {
   "display_name": "Go (lgo)",
   "language": "go",
   "name": "lgo"
  },
  "language_info": {
   "file_extension": "",
   "mimetype": "",
   "name": "go",
   "version": ""
  }
 },
 "nbformat": 4,
 "nbformat_minor": 2
}
